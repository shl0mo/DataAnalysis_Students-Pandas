{
  "nbformat": 4,
  "nbformat_minor": 0,
  "metadata": {
    "colab": {
      "name": "Estudantes.ipynb",
      "provenance": [],
      "collapsed_sections": []
    },
    "kernelspec": {
      "name": "python3",
      "display_name": "Python 3"
    },
    "language_info": {
      "name": "python"
    }
  },
  "cells": [
    {
      "cell_type": "code",
      "execution_count": 69,
      "metadata": {
        "id": "f91AoleMXgp_"
      },
      "outputs": [],
      "source": [
        "import pandas as pd;\n",
        "import numpy as np;\n",
        "import matplotlib.pyplot as plt;"
      ]
    },
    {
      "cell_type": "markdown",
      "source": [
        "# Parte 1 - leitura dos datasets e prepação dos dataframes para a análise dos dados"
      ],
      "metadata": {
        "id": "j9GqRZR44smj"
      }
    },
    {
      "cell_type": "code",
      "source": [
        "df_mat = pd.read_csv('student-mat.csv', sep = ';');\n",
        "df_mat.head();"
      ],
      "metadata": {
        "id": "O9dPhKbyaZCJ"
      },
      "execution_count": 47,
      "outputs": []
    },
    {
      "cell_type": "code",
      "source": [
        "df_por = pd.read_csv('student-por.csv', sep = ';');\n",
        "df_por.head();"
      ],
      "metadata": {
        "id": "LPeSb3bUa5wA"
      },
      "execution_count": 48,
      "outputs": []
    },
    {
      "cell_type": "code",
      "source": [
        "df = pd.merge(df_mat, df_por, how = 'inner', on = ['school', 'sex', 'age', 'address', 'famsize', 'Pstatus', 'Medu', 'Fedu', 'Mjob', 'Fjob', 'reason', 'nursery', 'internet']);\n",
        "df;"
      ],
      "metadata": {
        "id": "9pFl5LyHdDUY"
      },
      "execution_count": 49,
      "outputs": []
    },
    {
      "cell_type": "code",
      "source": [
        "df.rename(columns={\n",
        "    'guardian_x': 'guardian_mat',\n",
        "    'traveltime_x': 'traveltime_mat',\n",
        "    'studytime_x': 'studytime_mat',\n",
        "    'failures_x': 'failures_mat',\n",
        "    'shcoolsup_x': 'schoolsup_mat',\n",
        "    'famsup_x': 'famsup_mat',\n",
        "    'paid_x': 'paid_mat',\n",
        "    'activities_x': 'activities_mat',\n",
        "    'higher_x': 'higher_mat',\n",
        "    'romantic_x': 'romantic_mat',\n",
        "    'famrel_x': 'famrel_mat',\n",
        "    'freetime_x': 'freetime_mat',\n",
        "    'gooyt_x': 'goout_mat',\n",
        "    'Dalc_x': 'Dalc_mat',\n",
        "    'Walc_x': 'Walc_mat',\n",
        "    'health_x': 'health_mat',\n",
        "    'absences_x': 'absences_mat',\n",
        "    'G1_x': 'G1_mat',\n",
        "    'G2_x': 'G2_mat',\n",
        "    'G3_x': 'G3_mat',\n",
        "    'guardian_y': 'guardian_por',\n",
        "    'traveltime_y': 'traveltime_por',\n",
        "    'studytime_y': 'studytime_por',\n",
        "    'failures_y': 'failures_por',\n",
        "    'shcoolsup_y': 'schoolsup_por',\n",
        "    'famsup_y': 'famsup_por',\n",
        "    'paid_y': 'paid_por',\n",
        "    'activities_y': 'activities_por',\n",
        "    'higher_y': 'higher_por',\n",
        "    'romantic_y': 'romantic_por',\n",
        "    'famrel_y': 'famrel_por',\n",
        "    'freetime_y': 'freetime_por',\n",
        "    'gooyt_y': 'goout_por',\n",
        "    'Dalc_y': 'Dalc_por',\n",
        "    'Walc_y': 'Walc_por',\n",
        "    'health_y': 'health_por',\n",
        "    'absences_y': 'absences_por',\n",
        "    'G1_y': 'G1_por',\n",
        "    'G2_y': 'G2_por',\n",
        "    'G3_y': 'G3_por'\n",
        "}, inplace = True);\n",
        "df.head();"
      ],
      "metadata": {
        "id": "2m6MWKIHj0LZ"
      },
      "execution_count": 50,
      "outputs": []
    },
    {
      "cell_type": "markdown",
      "source": [
        "## Definição da média final"
      ],
      "metadata": {
        "id": "Ee4D6KG9p3pK"
      }
    },
    {
      "cell_type": "code",
      "source": [
        "df['GF'] = (df['G1_mat'] + df['G2_mat'] + df['G3_mat'] + df['G1_por'] + df['G2_por'] + df['G3_por'])/6;\n",
        "df;"
      ],
      "metadata": {
        "id": "jPKTDvJqp6t2"
      },
      "execution_count": 51,
      "outputs": []
    },
    {
      "cell_type": "markdown",
      "source": [
        "# Parte 2 - obtenção de informações gerais a respeito das médias finais"
      ],
      "metadata": {
        "id": "YIiIcS4i46r1"
      }
    },
    {
      "cell_type": "markdown",
      "source": [
        "## Resumo dos dados"
      ],
      "metadata": {
        "id": "bN_n-Y1egIdq"
      }
    },
    {
      "cell_type": "markdown",
      "source": [
        "O método describe() da biblioteca Pandas nos permite ter um resumo estatísticos dos d1ados de uma forma rápida, facilitando a análise dos dados e economizando tempo. Abaixo aplicamos esse método ao dataframe em análise:"
      ],
      "metadata": {
        "id": "Tr4y33pUgLBw"
      }
    },
    {
      "cell_type": "code",
      "source": [
        "df.describe();"
      ],
      "metadata": {
        "id": "mJ90LiC2rq5O"
      },
      "execution_count": 52,
      "outputs": []
    },
    {
      "cell_type": "markdown",
      "source": [
        "Podemos extrair diversos dados do resumo estatístico, dentre eles (arrendodados para duas casas decimais): <br><br>\n",
        "- A média das  idades dos alunos é 16.59\n",
        "- O aluno mais novo tem 15 anos\n",
        "- O aluno mais velho tem 22 anos\n",
        "- O tempo médio que os alunos gastam estudando Português é em tornod e 2 a 5 horas (porque a média é 2.039267 - entre 2 e 3)"
      ],
      "metadata": {
        "id": "iBPahgegg4jL"
      }
    },
    {
      "cell_type": "markdown",
      "source": [
        "Dados que são interessantes para análise e que podemos extrair do resumo dizem respeito às médias finais dos alunos. Observando esses dados (arrendondados para duas casas decimais), temos: <br><br>\n",
        "- A média das médias é 11.47\n",
        "- A mediana das médias (segundo quartil) é 11.33\n",
        "- O terceiro quartil das médias é 13.33\n",
        "- A menor média é 4\n",
        "- A maior média é 18.33"
      ],
      "metadata": {
        "id": "3hIqm3U_jFj0"
      }
    },
    {
      "cell_type": "markdown",
      "source": [
        "O fato da mediana (segundo quartil) ser 11.3, indica que pelo menos 50% dos alunos obteve média acima de 11.3 e que 50% dos alunos obteve média acima de 11.3. <br><br>\n",
        "O fato do terceiro quartil ser 13.33 indica que pelo menos 75% dos alunos obteve nota acima de 13.33, ao passo que pelo menos 25% dos alunos obteve nota acima de 13.33. <br><br>"
      ],
      "metadata": {
        "id": "LxQ_qfdwkwof"
      }
    },
    {
      "cell_type": "markdown",
      "source": [
        "## Identificação de <i>outliers</i>"
      ],
      "metadata": {
        "id": "k9yL6UkhZya3"
      }
    },
    {
      "cell_type": "markdown",
      "source": [
        "O resumo estatístico retornado pelo método describe(), no entanto, não deixa explícito se exitem no conjunto das nas médias dos alunos valores que são discrepantes dos demais, isso é, se existem <i>outliers</i>. <br><br>\n",
        "Identificar os valores discrepantes é importante para que possamos ter uma análise mais acurada dos dados, visto que eles causam efeitos indesejáveis e colaterais nas análises, sobretudo por conta da média ser sensível a esses valores. Desta forma, se identificarmos outliers, devemos tratá-los a fim de obter uma análise mais fidefigna de nossos dados."
      ],
      "metadata": {
        "id": "Ek0mJqXjmeYg"
      }
    },
    {
      "cell_type": "markdown",
      "source": [
        "Um método rápido e explícito de observar se existem outliers em nosso conjunto de dados é gerar o diagrama de caixa, o boxplot, para o conjunto de dados. Abaixo é gerado o boxplot para as médias finais dos alunos"
      ],
      "metadata": {
        "id": "tdbAQwR2n8Au"
      }
    },
    {
      "cell_type": "code",
      "source": [
        "plt.boxplot(df['GF']);"
      ],
      "metadata": {
        "colab": {
          "base_uri": "https://localhost:8080/",
          "height": 265
        },
        "id": "ZRYD0qkFY7SL",
        "outputId": "bc0c274a-2016-42b6-c3d4-c8d6782ee59b"
      },
      "execution_count": 53,
      "outputs": [
        {
          "output_type": "display_data",
          "data": {
            "image/png": "[encoded data removed]",
            "text/plain": [
              "<Figure size 432x288 with 1 Axes>"
            ]
          },
          "metadata": {
            "needs_background": "light"
          }
        }
      ]
    },
    {
      "cell_type": "markdown",
      "source": [
        "O diagrama gerado mostra que não existem outliers nas médias finais dos alunos e corrobora com o resumo estatístico dos dados no que diz respeito ao primeiro quartil, à mediana, ao terceiro quartil, ao menor valor das médias finais e o maior valor das médias finais."
      ],
      "metadata": {
        "id": "SUhDotCPa38S"
      }
    },
    {
      "cell_type": "markdown",
      "source": [
        "A fim de computar em variáveis os valores de cada uma dessas medidas para que possam ser usadas futuramente, podemos criar variáveis para cada uma delas:"
      ],
      "metadata": {
        "id": "1L4kBYC-pfN-"
      }
    },
    {
      "cell_type": "markdown",
      "source": [
        "### Média das médias finais\n",
        "\n"
      ],
      "metadata": {
        "id": "CSgHNJhjpvE4"
      }
    },
    {
      "cell_type": "code",
      "source": [
        "media_gf = np.mean(df['GF']);\n",
        "media_gf"
      ],
      "metadata": {
        "colab": {
          "base_uri": "https://localhost:8080/"
        },
        "id": "543sm72Ugqpa",
        "outputId": "173605d6-0991-41bf-8848-c362320d4f12"
      },
      "execution_count": 54,
      "outputs": [
        {
          "output_type": "execute_result",
          "data": {
            "text/plain": [
              "11.471204188481675"
            ]
          },
          "metadata": {},
          "execution_count": 54
        }
      ]
    },
    {
      "cell_type": "code",
      "source": [
        "mediana_gf = np.median(df['GF']);\n",
        "print(mediana_gf);"
      ],
      "metadata": {
        "colab": {
          "base_uri": "https://localhost:8080/"
        },
        "id": "PQfwVXLbci6x",
        "outputId": "c2d2eaa2-4258-4f35-8896-025f323c4e2b"
      },
      "execution_count": 55,
      "outputs": [
        {
          "output_type": "stream",
          "name": "stdout",
          "text": [
            "11.333333333333334\n"
          ]
        }
      ]
    },
    {
      "cell_type": "markdown",
      "source": [
        "### Primeiro quartil das médias finais"
      ],
      "metadata": {
        "id": "LlCX9R42c7Co"
      }
    },
    {
      "cell_type": "code",
      "source": [
        "q1_gf = df['GF'].quantile(0.25);\n",
        "print(q1_gf);"
      ],
      "metadata": {
        "colab": {
          "base_uri": "https://localhost:8080/"
        },
        "id": "Hl8KInrVcw5I",
        "outputId": "f3d84940-3d9e-4efb-c549-2fbcd30a8edd"
      },
      "execution_count": 56,
      "outputs": [
        {
          "output_type": "stream",
          "name": "stdout",
          "text": [
            "9.5\n"
          ]
        }
      ]
    },
    {
      "cell_type": "markdown",
      "source": [
        "### Terceiro quartil das médias finais"
      ],
      "metadata": {
        "id": "HhwFWWoJec54"
      }
    },
    {
      "cell_type": "code",
      "source": [
        "q3_gf = df['GF'].quantile(0.75);\n",
        "print(q3_gf);"
      ],
      "metadata": {
        "colab": {
          "base_uri": "https://localhost:8080/"
        },
        "id": "37MXINrjecSy",
        "outputId": "d86bc6ea-0367-4c6b-fdff-197c591684da"
      },
      "execution_count": 57,
      "outputs": [
        {
          "output_type": "stream",
          "name": "stdout",
          "text": [
            "13.333333333333334\n"
          ]
        }
      ]
    },
    {
      "cell_type": "markdown",
      "source": [
        "### Menor média final"
      ],
      "metadata": {
        "id": "JpINfQLxe5fp"
      }
    },
    {
      "cell_type": "code",
      "source": [
        "menor_media_gf = np.min(df['GF']);\n",
        "print(menor_media_gf);"
      ],
      "metadata": {
        "colab": {
          "base_uri": "https://localhost:8080/"
        },
        "id": "dyUxKSxtevvZ",
        "outputId": "fd965515-1250-4cf4-f0f7-5ec8fa77f386"
      },
      "execution_count": 58,
      "outputs": [
        {
          "output_type": "stream",
          "name": "stdout",
          "text": [
            "4.0\n"
          ]
        }
      ]
    },
    {
      "cell_type": "markdown",
      "source": [
        "### Maior média final"
      ],
      "metadata": {
        "id": "20JyMim0e-JG"
      }
    },
    {
      "cell_type": "code",
      "source": [
        "maior_media_gf = np.max(df['GF']);\n",
        "print(maior_media_gf);"
      ],
      "metadata": {
        "colab": {
          "base_uri": "https://localhost:8080/"
        },
        "id": "z_161BFmfDDx",
        "outputId": "2dc51fec-93a1-4462-f83b-b49173885c02"
      },
      "execution_count": 59,
      "outputs": [
        {
          "output_type": "stream",
          "name": "stdout",
          "text": [
            "18.333333333333332\n"
          ]
        }
      ]
    },
    {
      "cell_type": "markdown",
      "source": [
        "## Histograma das médias finais, assimetria e curtose"
      ],
      "metadata": {
        "id": "iHq0pNSVf0hp"
      }
    },
    {
      "cell_type": "markdown",
      "source": [
        "A fim de analisarmos a distribuição de frequências das médias finais e suas características, plotamos o histograma para essa variável:"
      ],
      "metadata": {
        "id": "ELRlcs-4rt8U"
      }
    },
    {
      "cell_type": "code",
      "source": [
        "plt.hist(df['GF']);"
      ],
      "metadata": {
        "colab": {
          "base_uri": "https://localhost:8080/",
          "height": 265
        },
        "id": "JJL74y3vrtdc",
        "outputId": "5286b5c5-5081-4bae-969b-aaa0ef67d837"
      },
      "execution_count": 60,
      "outputs": [
        {
          "output_type": "display_data",
          "data": {
            "image/png": "[encoded data removed]",
            "text/plain": [
              "<Figure size 432x288 with 1 Axes>"
            ]
          },
          "metadata": {
            "needs_background": "light"
          }
        }
      ]
    },
    {
      "cell_type": "markdown",
      "source": [
        "A partir do histograma podemos ver que uma grande parte dos alunos (mais de 80) obtiveram médias finais entre 10 e 12. <br>\n",
        "O histograma também sugere que a distribuição é levemente assimétrica à direita, pois mais médias finais **estão concentrados nos menores valores**."
      ],
      "metadata": {
        "id": "3TP5yZqOtnbh"
      }
    },
    {
      "cell_type": "markdown",
      "source": [
        "## Cáculo do Coeficiente de Assimetria de Bowley"
      ],
      "metadata": {
        "id": "zy6yUBuLv3yR"
      }
    },
    {
      "cell_type": "markdown",
      "source": [
        "Para constatar ou refutar a assimetria que inferimos do histograma, podemos aplicar a fórmula do Coeficiente de Assimetria de Bowley às médias finais."
      ],
      "metadata": {
        "id": "nhBw3VQWumzO"
      }
    },
    {
      "cell_type": "markdown",
      "source": [
        "A Assimetria de Bowley é dada por: <br>\n",
        "## <center>$ A_{b} = \\frac{q1 + q3 - 2*md}{q3 - q1}  $</center>"
      ],
      "metadata": {
        "id": "RYtXUChkwQLM"
      }
    },
    {
      "cell_type": "markdown",
      "source": [
        "Onde:\n",
        "- q1 é o primeiro quartil\n",
        "- q3 é o terceiro quartil\n",
        "- md é a mediana"
      ],
      "metadata": {
        "id": "yCE5E6_JxQ4V"
      }
    },
    {
      "cell_type": "markdown",
      "source": [
        "E:\n",
        "- Se $ A_{b} = 0 $, a distribuição é simétrica\n",
        "- Se $ A_{b} < 0 $, a distribuição é assimétrica negativa (com assimetria à esquerda)\n",
        "- Se $ A_{b} > 0 $, a distribuição é assimétrica positiva (com assimetria à direita) "
      ],
      "metadata": {
        "id": "NXMxYsH7y1dd"
      }
    },
    {
      "cell_type": "code",
      "source": [
        "assimetria_bowley = (q1_gf + q3_gf - 2*(mediana_gf))/(q3_gf - q1_gf)\n",
        "print(assimetria_bowley)"
      ],
      "metadata": {
        "colab": {
          "base_uri": "https://localhost:8080/"
        },
        "id": "Lrdqfy9iumeE",
        "outputId": "25b29859-4918-445a-b6e3-c74c419675da"
      },
      "execution_count": 61,
      "outputs": [
        {
          "output_type": "stream",
          "name": "stdout",
          "text": [
            "0.04347826086956552\n"
          ]
        }
      ]
    },
    {
      "cell_type": "markdown",
      "source": [
        "De fato, a distribuição apresenta uma assimetria à direita, pois o coeficiente de assimetria de Bowley resultou em 0.04347826086956552, um número positivo."
      ],
      "metadata": {
        "id": "2-z9GYzv4iU9"
      }
    },
    {
      "cell_type": "markdown",
      "source": [
        "Também poderíamos inferir a assimetria pelos valores da média e da mediana das médias finais:"
      ],
      "metadata": {
        "id": "GjdsueGk7Lv6"
      }
    },
    {
      "cell_type": "code",
      "source": [
        "print(media_gf)"
      ],
      "metadata": {
        "colab": {
          "base_uri": "https://localhost:8080/"
        },
        "id": "MJvo7sKjtkkw",
        "outputId": "7a19796b-410b-404e-a2f3-32184f50d68f"
      },
      "execution_count": 66,
      "outputs": [
        {
          "output_type": "stream",
          "name": "stdout",
          "text": [
            "11.471204188481675\n"
          ]
        }
      ]
    },
    {
      "cell_type": "code",
      "source": [
        "print(mediana_gf)"
      ],
      "metadata": {
        "colab": {
          "base_uri": "https://localhost:8080/"
        },
        "id": "MtrkyjFW7dKi",
        "outputId": "7a639fd2-9677-4f9c-fe2e-3172fda0f96c"
      },
      "execution_count": 67,
      "outputs": [
        {
          "output_type": "stream",
          "name": "stdout",
          "text": [
            "11.333333333333334\n"
          ]
        }
      ]
    },
    {
      "cell_type": "markdown",
      "source": [
        "Como a média é maior que a mediana, naturalmente temos uma distribuição assimétrica à direita, com uma concentração nos menores valores."
      ],
      "metadata": {
        "id": "_-oXlXz87gYW"
      }
    },
    {
      "cell_type": "markdown",
      "source": [
        "Isso indica que a maioria dos alunos obteve uma nota baixo da média."
      ],
      "metadata": {
        "id": "6ydghja18kZV"
      }
    }
  ]
}